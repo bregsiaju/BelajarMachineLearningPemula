{
    "cells": [
        {
            "cell_type": "code",
            "execution_count": 1,
            "metadata": {},
            "outputs": [],
            "source": "from sklearn import datasets\nfrom sklearn.model_selection import train_test_split\n\niris = datasets.load_iris()\natribut = iris.data\nlabel = iris.target\n\n# bagi dataset menjadi train set dan test set\nX_train, X_test, y_train, y_test = train_test_split(\n    atribut, label, test_size=0.2)"
        },
        {
            "cell_type": "code",
            "execution_count": 4,
            "metadata": {},
            "outputs": [
                {
                    "data": {
                        "text/plain": "1.0"
                    },
                    "execution_count": 4,
                    "metadata": {},
                    "output_type": "execute_result"
                }
            ],
            "source": "# tanpa menggunakan PCA\nfrom sklearn import tree\ndecision_tree = tree.DecisionTreeClassifier()\n\nmodel_pertama = decision_tree.fit(X_train, y_train)\nmodel_pertama.score(X_test, y_test)"
        },
        {
            "cell_type": "code",
            "execution_count": 9,
            "metadata": {},
            "outputs": [
                {
                    "data": {
                        "text/plain": "array([0.92579072, 0.05192305, 0.01751992, 0.00476631])"
                    },
                    "execution_count": 9,
                    "metadata": {},
                    "output_type": "execute_result"
                }
            ],
            "source": "# menggunakan PCA\nfrom sklearn.decomposition import PCA\n\n# membuat objek PCA dengan 4 principal component\npca = PCA(n_components=4)\n\n# mengaplikasikan pca pada dataset\npca_attributes = pca.fit_transform(X_train)\n\n# melihat variance dari setiap atribut\npca.explained_variance_ratio_"
        },
        {
            "cell_type": "code",
            "execution_count": 10,
            "metadata": {},
            "outputs": [],
            "source": "# PCA dengan 2 principal component\npca = PCA(n_components = 2)\nX_train_pca = pca.fit_transform(X_train)\nX_test_pca = pca.fit_transform(X_test)"
        },
        {
            "cell_type": "code",
            "execution_count": 11,
            "metadata": {},
            "outputs": [
                {
                    "data": {
                        "text/plain": "0.8333333333333334"
                    },
                    "execution_count": 11,
                    "metadata": {},
                    "output_type": "execute_result"
                }
            ],
            "source": "# uji akurasi classifier\nmodel2 = decision_tree.fit(X_train_pca, y_train)\nmodel2.score(X_test_pca, y_test)"
        },
        {
            "cell_type": "code",
            "execution_count": null,
            "metadata": {},
            "outputs": [],
            "source": ""
        }
    ],
    "metadata": {
        "kernelspec": {
            "display_name": "Python 3.7",
            "language": "python",
            "name": "python3"
        },
        "language_info": {
            "codemirror_mode": {
                "name": "ipython",
                "version": 3
            },
            "file_extension": ".py",
            "mimetype": "text/x-python",
            "name": "python",
            "nbconvert_exporter": "python",
            "pygments_lexer": "ipython3",
            "version": "3.7.10"
        }
    },
    "nbformat": 4,
    "nbformat_minor": 1
}